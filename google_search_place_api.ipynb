{
 "cells": [
  {
   "cell_type": "code",
   "execution_count": 2,
   "metadata": {},
   "outputs": [],
   "source": [
    "import requests\n",
    "import json"
   ]
  },
  {
   "cell_type": "code",
   "execution_count": 4,
   "metadata": {},
   "outputs": [
    {
     "name": "stdout",
     "output_type": "stream",
     "text": [
      "{\n",
      "  \"@context\": {\n",
      "    \"EntitySearchResult\": \"goog:EntitySearchResult\",\n",
      "    \"detailedDescription\": \"goog:detailedDescription\",\n",
      "    \"kg\": \"http://g.co/kg\",\n",
      "    \"goog\": \"http://schema.googleapis.com/\",\n",
      "    \"resultScore\": \"goog:resultScore\",\n",
      "    \"@vocab\": \"http://schema.org/\"\n",
      "  },\n",
      "  \"@type\": \"ItemList\",\n",
      "  \"itemListElement\": [\n",
      "    {\n",
      "      \"result\": {\n",
      "        \"detailedDescription\": {\n",
      "          \"license\": \"https://en.wikipedia.org/wiki/Wikipedia:Text_of_Creative_Commons_Attribution-ShareAlike_3.0_Unported_License\",\n",
      "          \"url\": \"https://ko.wikipedia.org/wiki/%EC%A7%9C%EC%9E%A5%EB%A9%B4\",\n",
      "          \"articleBody\": \"짜장면 또는 자장면은 양파 등 채소와 돼지고기에 춘장을 넣어 식용유와 함께 볶은 양념을 굵은 국수에 비벼서 먹는 한국식 중국 요리이다. 짜장면은 중국의 자장몐이 한국식으로 변형된 것이다.\"\n",
      "        },\n",
      "        \"@type\": [\n",
      "          \"Thing\"\n",
      "        ],\n",
      "        \"description\": \"요리\",\n",
      "        \"name\": \"짜장면\",\n",
      "        \"@id\": \"kg:/m/08xhj_\"\n",
      "      },\n",
      "      \"resultScore\": 1993.27978515625,\n",
      "      \"@type\": \"EntitySearchResult\"\n",
      "    }\n",
      "  ]\n",
      "}\n",
      "\n"
     ]
    }
   ],
   "source": [
    "from __future__ import print_function\n",
    "import json\n",
    "import urllib\n",
    "import requests\n",
    "\n",
    "api_key = \"본인의 api를 입력하세요. 유료입니다.\"\n",
    "query = \"자장면\"\n",
    "service_url = 'https://kgsearch.googleapis.com/v1/entities:search'\n",
    "params = {\n",
    "    'query': query,\n",
    "    'limit': 1,\n",
    "    'indent': True,\n",
    "    'key': api_key,\n",
    "    'languages':\"ko\"\n",
    "}\n",
    "url = service_url + '?' + urllib.urlencode(params)\n",
    "print(urllib.urlopen(url).read())"
   ]
  },
  {
   "cell_type": "code",
   "execution_count": null,
   "metadata": {},
   "outputs": [],
   "source": []
  }
 ],
 "metadata": {
  "kernelspec": {
   "display_name": "Python 2",
   "language": "python",
   "name": "python2"
  },
  "language_info": {
   "codemirror_mode": {
    "name": "ipython",
    "version": 2
   },
   "file_extension": ".py",
   "mimetype": "text/x-python",
   "name": "python",
   "nbconvert_exporter": "python",
   "pygments_lexer": "ipython2",
   "version": "2.7.18"
  }
 },
 "nbformat": 4,
 "nbformat_minor": 2
}
