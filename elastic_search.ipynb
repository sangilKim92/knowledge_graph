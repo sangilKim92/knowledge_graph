{
 "cells": [
  {
   "cell_type": "code",
   "execution_count": 107,
   "metadata": {},
   "outputs": [
    {
     "ename": "ImportError",
     "evalue": "Missing required dependencies ['numpy']",
     "output_type": "error",
     "traceback": [
      "\u001b[0;31m---------------------------------------------------------------------------\u001b[0m",
      "\u001b[0;31mImportError\u001b[0m                               Traceback (most recent call last)",
      "\u001b[0;32m<ipython-input-107-e93dcdd20cdc>\u001b[0m in \u001b[0;36m<module>\u001b[0;34m()\u001b[0m\n\u001b[1;32m     10\u001b[0m \u001b[0;32mimport\u001b[0m \u001b[0mre\u001b[0m\u001b[0;34m\u001b[0m\u001b[0m\n\u001b[1;32m     11\u001b[0m \u001b[0;32mimport\u001b[0m \u001b[0mdatetime\u001b[0m\u001b[0;34m\u001b[0m\u001b[0m\n\u001b[0;32m---> 12\u001b[0;31m \u001b[0;32mimport\u001b[0m \u001b[0mpandas\u001b[0m \u001b[0;32mas\u001b[0m \u001b[0mpd\u001b[0m\u001b[0;34m\u001b[0m\u001b[0m\n\u001b[0m\u001b[1;32m     13\u001b[0m \u001b[0;32mimport\u001b[0m \u001b[0mnumpy\u001b[0m \u001b[0;32mas\u001b[0m \u001b[0mnp\u001b[0m\u001b[0;34m\u001b[0m\u001b[0m\n",
      "\u001b[0;32m/home/com/anaconda3/envs/py27/lib/python2.7/site-packages/pandas/__init__.py\u001b[0m in \u001b[0;36m<module>\u001b[0;34m()\u001b[0m\n\u001b[1;32m     17\u001b[0m \u001b[0;32mif\u001b[0m \u001b[0mmissing_dependencies\u001b[0m\u001b[0;34m:\u001b[0m\u001b[0;34m\u001b[0m\u001b[0m\n\u001b[1;32m     18\u001b[0m     raise ImportError(\n\u001b[0;32m---> 19\u001b[0;31m         \"Missing required dependencies {0}\".format(missing_dependencies))\n\u001b[0m\u001b[1;32m     20\u001b[0m \u001b[0;32mdel\u001b[0m \u001b[0mhard_dependencies\u001b[0m\u001b[0;34m,\u001b[0m \u001b[0mdependency\u001b[0m\u001b[0;34m,\u001b[0m \u001b[0mmissing_dependencies\u001b[0m\u001b[0;34m\u001b[0m\u001b[0m\n\u001b[1;32m     21\u001b[0m \u001b[0;34m\u001b[0m\u001b[0m\n",
      "\u001b[0;31mImportError\u001b[0m: Missing required dependencies ['numpy']"
     ]
    }
   ],
   "source": [
    "import csv\n",
    "from elasticsearch import helpers, Elasticsearch\n",
    "import os\n",
    "from __future__ import print_function\n",
    "import glob\n",
    "import json\n",
    "import sys\n",
    "import requests\n",
    "import time\n",
    "import re\n",
    "import datetime\n",
    "import pandas as pd\n",
    "import numpy as np"
   ]
  },
  {
   "cell_type": "code",
   "execution_count": 3,
   "metadata": {},
   "outputs": [],
   "source": [
    "es = Elasticsearch(['localhost:9200'], port=9200)"
   ]
  },
  {
   "cell_type": "code",
   "execution_count": 4,
   "metadata": {
    "scrolled": true
   },
   "outputs": [
    {
     "data": {
      "text/plain": [
       "{u'cluster_name': u'elasticsearch',\n",
       " u'cluster_uuid': u'YSCvebMxQfy03EK_8Hbs8A',\n",
       " u'name': u'com-desktop',\n",
       " u'tagline': u'You Know, for Search',\n",
       " u'version': {u'build_date': u'2021-03-06T05:54:38.141101Z',\n",
       "  u'build_flavor': u'default',\n",
       "  u'build_hash': u'3e5a16cfec50876d20ea77b075070932c6464c7d',\n",
       "  u'build_snapshot': False,\n",
       "  u'build_type': u'deb',\n",
       "  u'lucene_version': u'8.7.0',\n",
       "  u'minimum_index_compatibility_version': u'6.0.0-beta1',\n",
       "  u'minimum_wire_compatibility_version': u'6.8.0',\n",
       "  u'number': u'7.11.2'}}"
      ]
     },
     "execution_count": 4,
     "metadata": {},
     "output_type": "execute_result"
    }
   ],
   "source": [
    "es.info()"
   ]
  },
  {
   "cell_type": "code",
   "execution_count": 42,
   "metadata": {},
   "outputs": [
    {
     "data": {
      "text/plain": [
       "{u'acknowledged': True, u'index': u'google', u'shards_acknowledged': True}"
      ]
     },
     "execution_count": 42,
     "metadata": {},
     "output_type": "execute_result"
    }
   ],
   "source": [
    "doc = \"\"\"{\n",
    "  \"settings\": {\n",
    "    \"analysis\": {\n",
    "    \"tokenizer\":\n",
    "    {\n",
    "    \"nori_tokenizer\":\n",
    "        {\n",
    "            \"type\":\"nori_tokenizer\"\n",
    "        }\n",
    "    }\n",
    "    ,\n",
    "      \"analyzer\": {\n",
    "        \"nori\": {\n",
    "          \"tokenizer\": \"nori_tokenizer\"\n",
    "        }\n",
    "      }\n",
    "    }\n",
    "  },\n",
    "  \"mappings\": {\n",
    "    \"properties\": {\n",
    "        \"businessId\":{\n",
    "        \"type\" : \"long\"\n",
    "        },\n",
    "      \"body\": {\n",
    "        \"type\": \"text\",\n",
    "        \"analyzer\": \"nori\"       \n",
    "        },\n",
    "        \"rating\":{\n",
    "            \"type\":\"long\"\n",
    "        },\n",
    "        \"name\":{\n",
    "            \"type\":\"text\",\n",
    "            \"analyzer\" : \"nori\"\n",
    "        },\n",
    "        \"nickName\":{\n",
    "            \"type\":\"text\",\n",
    "            \"analyzer\":\"nori\"\n",
    "        }\n",
    "        \n",
    "    }\n",
    "  }\n",
    "}\"\"\"\n",
    "es.indices.create(index=\"google\",body= json.loads(doc))"
   ]
  },
  {
   "cell_type": "code",
   "execution_count": 43,
   "metadata": {},
   "outputs": [
    {
     "data": {
      "text/plain": [
       "{u'acknowledged': True, u'index': u'naver', u'shards_acknowledged': True}"
      ]
     },
     "execution_count": 43,
     "metadata": {},
     "output_type": "execute_result"
    }
   ],
   "source": [
    "doc = \"\"\"{\n",
    "  \"settings\": {\n",
    "    \"analysis\": {\n",
    "    \"tokenizer\":\n",
    "    {\n",
    "    \"nori_tokenizer\":\n",
    "        {\n",
    "            \"type\":\"nori_tokenizer\"\n",
    "        }\n",
    "    }\n",
    "    ,\n",
    "      \"analyzer\": {\n",
    "        \"nori\": {\n",
    "          \"tokenizer\": \"nori_tokenizer\"\n",
    "        }\n",
    "      }\n",
    "    }\n",
    "  },\n",
    "  \"mappings\": {\n",
    "    \"properties\": {\n",
    "        \"businessId\":{\n",
    "        \"type\" : \"long\"\n",
    "        },\n",
    "      \"category\": {\n",
    "        \"type\": \"text\",\n",
    "        \"analyzer\": \"nori\"       \n",
    "        },\n",
    "        \"address\":{\n",
    "            \"type\":\"text\",\n",
    "            \"analyzer\":\"nori\"\n",
    "        },\n",
    "        \"roadAddress\":{\n",
    "            \"type\":\"text\",\n",
    "            \"analyzer\":\"nori\"\n",
    "        },\n",
    "        \"menu\":{\n",
    "        \"type\":\"text\",\n",
    "        \"analyzer\":\"nori\"\n",
    "        },\n",
    "        \"info\":{\n",
    "        \"type\":\"text\",\n",
    "        \"analyzer\":\"nori\"\n",
    "        }\n",
    "        ,\n",
    "        \"name\":{\n",
    "            \"type\":\"text\",\n",
    "            \"analyzer\" : \"nori\"\n",
    "        },\n",
    "        \"nickName\":{\n",
    "            \"type\":\"text\",\n",
    "            \"analyzer\":\"nori\"\n",
    "        }\n",
    "        \n",
    "    }\n",
    "  }\n",
    "}\"\"\"\n",
    "es.indices.create(index=\"naver\",body= json.loads(doc))"
   ]
  },
  {
   "cell_type": "code",
   "execution_count": 44,
   "metadata": {},
   "outputs": [
    {
     "data": {
      "text/plain": [
       "{u'acknowledged': True, u'index': u'store', u'shards_acknowledged': True}"
      ]
     },
     "execution_count": 44,
     "metadata": {},
     "output_type": "execute_result"
    }
   ],
   "source": [
    "doc = \"\"\"{\n",
    "  \"settings\": {\n",
    "    \"analysis\": {\n",
    "    \"tokenizer\":\n",
    "    {\n",
    "    \"nori_tokenizer\":\n",
    "        {\n",
    "            \"type\":\"nori_tokenizer\"\n",
    "        }\n",
    "    }\n",
    "    ,\n",
    "      \"analyzer\": {\n",
    "        \"nori\": {\n",
    "          \"tokenizer\": \"nori_tokenizer\"\n",
    "        }\n",
    "      }\n",
    "    }\n",
    "  },\n",
    "  \"mappings\": {\n",
    "    \"properties\": {\n",
    "        \"businessId\":{\n",
    "        \"type\" : \"long\"\n",
    "        },\n",
    "        \"rating\":{\n",
    "        \"type\":\"long\"\n",
    "        }\n",
    "        ,\n",
    "        \"body\":{\n",
    "            \"type\":\"text\",\n",
    "            \"analyzer\" : \"nori\"\n",
    "        },\n",
    "        \"nickName\":{\n",
    "            \"type\":\"text\",\n",
    "            \"analyzer\":\"nori\"\n",
    "        }\n",
    "        \n",
    "    }\n",
    "  }\n",
    "}\"\"\"\n",
    "es.indices.create(index=\"store\",body= json.loads(doc))"
   ]
  },
  {
   "cell_type": "code",
   "execution_count": 16,
   "metadata": {
    "scrolled": true
   },
   "outputs": [
    {
     "data": {
      "text/plain": [
       "{u'mappings': {u'properties': {u'body': {u'analyzer': u'nori',\n",
       "    u'type': u'text'},\n",
       "   u'businessId': {u'type': u'long'},\n",
       "   u'name': {u'analyzer': u'nori', u'type': u'text'},\n",
       "   u'nickName': {u'analyzer': u'nori', u'type': u'text'},\n",
       "   u'rating': {u'type': u'long'}}},\n",
       " u'settings': {u'analysis': {u'analyzer': {u'nori': {u'tokenizer': u'nori_tokenizer'}},\n",
       "   u'tokenizer': {u'nori_tokenizer': {u'type': u'nori_tokenizer'}}}}}"
      ]
     },
     "execution_count": 16,
     "metadata": {},
     "output_type": "execute_result"
    }
   ],
   "source": [
    "json.loads(doc)"
   ]
  },
  {
   "cell_type": "code",
   "execution_count": 45,
   "metadata": {},
   "outputs": [],
   "source": [
    "with open('네이버스토어.csv') as f:\n",
    "    rdr = csv.reader(f)\n",
    "    for idx,line in enumerate(rdr):\n",
    "        if idx is not 0:\n",
    "            doc1 = {\"businessId\":float(line[0]),'nickName':line[2], 'body': line[3],    'rating': float(line[1])}                  \n",
    "            es.index(index=\"store\", body=doc1)\n",
    "    f.close()    "
   ]
  },
  {
   "cell_type": "code",
   "execution_count": 46,
   "metadata": {},
   "outputs": [],
   "source": [
    "with open('구글리뷰.csv') as f:\n",
    "    rdr = csv.reader(f)\n",
    "    for idx,line in enumerate(rdr):\n",
    "        if idx is not 0:\n",
    "            doc1 = {\"businessId\": float(line[0]), 'name':line[1], 'nickName':line[2], 'body': line[4],    'rating': float(line[3])}                  \n",
    "            es.index(index=\"google\", body=doc1)\n",
    "    f.close()    "
   ]
  },
  {
   "cell_type": "code",
   "execution_count": 47,
   "metadata": {},
   "outputs": [],
   "source": [
    "with open('네이버리뷰.csv') as f:\n",
    "    rdr = csv.reader(f)\n",
    "    for idx,line in enumerate(rdr):\n",
    "        if idx is not 0:\n",
    "            doc1 = {\"businessId\": float(line[0]), 'name':line[1], 'category':line[2], 'address':line[3],'roadAddress':line[4],'menu':line[5],'info':line[6]}                  \n",
    "            es.index(index=\"naver\", body=doc1)\n",
    "    f.close()    "
   ]
  },
  {
   "cell_type": "code",
   "execution_count": 98,
   "metadata": {},
   "outputs": [],
   "source": [
    "#후기가 어디 가게인지\n",
    "#위치별로 보기\n",
    "#종목별로 보기\n",
    "#가게별로 보기\n",
    "#점수별로 보기\n",
    "\n",
    "def search():\n",
    "    body = {\n",
    "        'size':5000,\n",
    "        'query':\n",
    "        {\n",
    "            'match':\n",
    "            {    \n",
    "            }\n",
    "        }\n",
    "    }\n",
    "    while 1:\n",
    "        case = raw_input(\"볼 목록을 고르세요. \\n 1: 후기 \\n 2: 위치별 후기 \\n 3: 종목별 후기 \\n 4: 가게별 후기 \\n 5: 점수별 후기 \\n 나가려면 exit\")\n",
    "        \n",
    "        if case is \"1\":\n",
    "            query = raw_input(\"질의어를 입력하세요.\")\n",
    "                              \n",
    "            body['query']['match']['body'] = query\n",
    "\n",
    "            results = es.search(index=\"google\", body=body)\n",
    "            for result in results['hits']['hits']:\n",
    "                print(\"명칭: \",result['_source']['name'])\n",
    "                print(\"점수: \",result['_source']['rating'])\n",
    "                print(\"후기글: \",result['_source']['body'].encode(\"utf-8\").replace('\\n',' '))\n",
    "                print(\"=============================================================================================================\")\n",
    "            \n",
    "            del body['query']['match']['body']\n",
    "            \n",
    "        elif case is \"2\":\n",
    "            pos = raw_input(\"위치를 입력하세요\\n\")\n",
    "            body['query']['match']['address'] = pos\n",
    "            \n",
    "            results = es.search(index=\"naver\", body=body)\n",
    "            businessId = {}\n",
    "            for result in results['hits']['hits']:\n",
    "                businessId[result['_source']['businessId']] = True\n",
    "            del body['query']['match']['address']\n",
    "            \n",
    "            \n",
    "            query = raw_input(\"질의어를 입력하세요.\")\n",
    "            body['query']['match']['body'] = query\n",
    "\n",
    "            results = es.search(index=\"google\", body=body)\n",
    "            for result in results['hits']['hits']:\n",
    "                if result['_source']['businessId'] in businessId:\n",
    "                    print(\"명칭: \",result['_source']['name'])\n",
    "                    print(\"점수: \",result['_source']['rating'])\n",
    "                    print(\"후기글: \",result['_source']['body'].encode(\"utf-8\").replace('\\n',' '))\n",
    "                    print(\"=============================================================================================================\")\n",
    "            del body['query']['match']['body']\n",
    "            \n",
    "            \n",
    "        elif case is \"3\":\n",
    "            category = raw_input(\"분류를 입력하세요\\n\")\n",
    "            \n",
    "            body['query']['match']['category'] = category\n",
    "            \n",
    "            results = es.search(index=\"naver\", body=body)\n",
    "            businessId = {}\n",
    "            for result in results['hits']['hits']:\n",
    "                businessId[result['_source']['businessId']] = True\n",
    "            del body['query']['match']['category']\n",
    "            \n",
    "            \n",
    "            query = raw_input(\"질의어를 입력하세요.\")  \n",
    "            body['query']['match']['body'] = query\n",
    "\n",
    "            results = es.search(index=\"google\", body=body)\n",
    "            for result in results['hits']['hits']:\n",
    "                if result['_source']['businessId'] in businessId:\n",
    "                    print(\"명칭: \",result['_source']['name'])\n",
    "                    print(\"점수: \",result['_source']['rating'])\n",
    "                    print(\"후기글: \",result['_source']['body'].encode(\"utf-8\").replace('\\n',' '))\n",
    "                    print(\"=============================================================================================================\")\n",
    "            del body['query']['match']['body']\n",
    "            \n",
    "        elif case is \"4\":\n",
    "            store = raw_input(\"가게이름을 입력하세요.\\n\")\n",
    "            \n",
    "            body['query']['match']['name'] = store\n",
    "            \n",
    "            results = es.search(index=\"naver\", body=body)\n",
    "            businessId = {}\n",
    "            for result in results['hits']['hits']:\n",
    "                businessId[result['_source']['businessId']] = True           \n",
    "            del body['query']['match']['name']\n",
    "            \n",
    "            \n",
    "            for ID in list(businessId):\n",
    "                body['query']['match']['businessId'] = ID\n",
    "                results = es.search(index=\"google\", body=body)\n",
    "                for result in results['hits']['hits']:\n",
    "                    if result['_source']['businessId'] in businessId:\n",
    "                        print(\"명칭: \",result['_source']['name'])\n",
    "                        print(\"점수: \",result['_source']['rating'])\n",
    "                        print(\"후기글: \",result['_source']['body'].encode(\"utf-8\").replace('\\n',' '))\n",
    "                        print(\"=============================================================================================================\")\n",
    "            del body['query']['match']['businessId']\n",
    "            \n",
    "            query = raw_input(\"가게의 후기를 입력하세요\\n\")\n",
    "            body['query']['match']['body'] = query\n",
    "            results = es.search(index=\"google\", body=body)\n",
    "            for result in results['hits']['hits']:\n",
    "                if result['_source']['businessId'] in businessId:\n",
    "                    print(\"명칭: \",result['_source']['name'])\n",
    "                    print(\"점수: \",result['_source']['rating'])\n",
    "                    print(\"후기글: \",result['_source']['body'].encode(\"utf-8\").replace('\\n',' '))\n",
    "                    print(\"=============================================================================================================\")\n",
    "            del body['query']['match']['body']\n",
    "        \n",
    "        elif case == 'exit':\n",
    "            break"
   ]
  },
  {
   "cell_type": "code",
   "execution_count": 1,
   "metadata": {},
   "outputs": [],
   "source": [
    "#search()"
   ]
  },
  {
   "cell_type": "markdown",
   "metadata": {},
   "source": [
    "#### search()"
   ]
  },
  {
   "cell_type": "code",
   "execution_count": null,
   "metadata": {
    "scrolled": true
   },
   "outputs": [],
   "source": [
    "words = [\"관리\",\"아이\",\"체험\",\"주차장\",\"공원\",\"직지사\",\"김천\",\"사람\"]\n",
    "for word in words:\n",
    "    search()"
   ]
  },
  {
   "cell_type": "code",
   "execution_count": 48,
   "metadata": {
    "scrolled": false
   },
   "outputs": [
    {
     "name": "stderr",
     "output_type": "stream",
     "text": [
      "/home/com/anaconda3/envs/py27/lib/python2.7/site-packages/elasticsearch/connection/base.py:193: ElasticsearchDeprecationWarning: this request accesses system indices: [.kibana_1, .apm-custom-link, .apm-agent-configuration, .kibana_task_manager_1], but in a future major version, direct access to system indices will be prevented by default\n",
      "  warnings.warn(message, category=ElasticsearchDeprecationWarning)\n"
     ]
    },
    {
     "data": {
      "text/plain": [
       "{u'.apm-agent-configuration': {u'aliases': {}},\n",
       " u'.apm-custom-link': {u'aliases': {}},\n",
       " u'.ds-ilm-history-5-2021.03.17-000001': {u'aliases': {}},\n",
       " u'.kibana-event-log-7.11.2-000001': {u'aliases': {u'.kibana-event-log-7.11.2': {u'is_write_index': True}}},\n",
       " u'.kibana_1': {u'aliases': {u'.kibana': {}}},\n",
       " u'.kibana_task_manager_1': {u'aliases': {u'.kibana_task_manager': {}}},\n",
       " u'google': {u'aliases': {}},\n",
       " u'naver': {u'aliases': {}},\n",
       " u'store': {u'aliases': {}}}"
      ]
     },
     "execution_count": 48,
     "metadata": {},
     "output_type": "execute_result"
    }
   ],
   "source": [
    "es.indices.get_alias(\"*\")"
   ]
  },
  {
   "cell_type": "code",
   "execution_count": null,
   "metadata": {},
   "outputs": [],
   "source": []
  },
  {
   "cell_type": "code",
   "execution_count": 41,
   "metadata": {
    "scrolled": false
   },
   "outputs": [
    {
     "data": {
      "text/plain": [
       "{u'acknowledged': True}"
      ]
     },
     "execution_count": 41,
     "metadata": {},
     "output_type": "execute_result"
    }
   ],
   "source": [
    "es.indices.delete(index='store')"
   ]
  },
  {
   "cell_type": "code",
   "execution_count": 22,
   "metadata": {},
   "outputs": [],
   "source": [
    "# 페이스북이나 인스타그램에 가입해서 #화성행궁 이라 할경우 다른곳에서 \n",
    "# 우리 계정의 인증키로 \n",
    "# 김천 관광이라는 페이스북 계정을 만들었을 떄\n",
    "# 다른 a가 자기 계정에 해쉬태그를 공유했을 때 그 게시물을 가져올 수 있는지\n",
    "# 또한, 그 계정의 다른 게시물을 가져올 수 있는지"
   ]
  },
  {
   "cell_type": "code",
   "execution_count": null,
   "metadata": {},
   "outputs": [],
   "source": []
  }
 ],
 "metadata": {
  "kernelspec": {
   "display_name": "Python 2",
   "language": "python",
   "name": "python2"
  },
  "language_info": {
   "codemirror_mode": {
    "name": "ipython",
    "version": 2
   },
   "file_extension": ".py",
   "mimetype": "text/x-python",
   "name": "python",
   "nbconvert_exporter": "python",
   "pygments_lexer": "ipython2",
   "version": "2.7.18"
  }
 },
 "nbformat": 4,
 "nbformat_minor": 2
}
