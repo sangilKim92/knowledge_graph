{
 "cells": [
  {
   "cell_type": "code",
   "execution_count": null,
   "id": "surrounded-barrel",
   "metadata": {},
   "outputs": [],
   "source": [
    "from googleapiclient.discovery import build \n",
    "\n",
    "api_key = '본인의 api계정을 입력하세요'\n",
    "\n",
    "def video_search(q): \n",
    "    # empty list for storing reply \n",
    "    replies = [] \n",
    "\n",
    "    # creating youtube resource object \n",
    "    youtube = build('youtube', 'v3', \n",
    "                developerKey=api_key) \n",
    "\n",
    "    # retrieve youtube video results \n",
    "    search_response=youtube.search().list( \n",
    "    q = q,\n",
    "    part='id', \n",
    "    maxResults = 5\n",
    "    ).execute()\n",
    "    return search_response\n",
    "\n",
    "temp = video_search(\"김천 체험\")"
   ]
  },
  {
   "cell_type": "code",
   "execution_count": null,
   "id": "meaningful-burden",
   "metadata": {},
   "outputs": [],
   "source": [
    "def id_to_video(texts):\n",
    "    lst = []\n",
    "    for text in texts['items']:\n",
    "        lst.append(text['id']['videoId'])\n",
    "        \n",
    "    for vI in lst:\n",
    "        display(HTML(f\"<iframe width=\\\"400\\\" height=\\\"315\\\" src=\\\"https://www.youtube.com/embed/{vI}\\\" title=\\\"YouTube video player\\\" frameborder=\\\"0\\\" allow=\\\"accelerometer; autoplay; clipboard-write; encrypted-media; gyroscope; picture-in-picture\\\" allowfullscreen></iframe>\"))\n",
    "    "
   ]
  },
  {
   "cell_type": "code",
   "execution_count": null,
   "id": "informative-backing",
   "metadata": {},
   "outputs": [],
   "source": [
    "id_to_video(temp)"
   ]
  },
  {
   "cell_type": "code",
   "execution_count": null,
   "id": "sunrise-seating",
   "metadata": {},
   "outputs": [],
   "source": []
  }
 ],
 "metadata": {
  "kernelspec": {
   "display_name": "Python 3",
   "language": "python",
   "name": "python3"
  },
  "language_info": {
   "codemirror_mode": {
    "name": "ipython",
    "version": 3
   },
   "file_extension": ".py",
   "mimetype": "text/x-python",
   "name": "python",
   "nbconvert_exporter": "python",
   "pygments_lexer": "ipython3",
   "version": "3.6.13"
  }
 },
 "nbformat": 4,
 "nbformat_minor": 5
}
