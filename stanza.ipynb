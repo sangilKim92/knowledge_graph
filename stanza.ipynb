{
 "cells": [
  {
   "cell_type": "code",
   "execution_count": 1,
   "id": "defined-shelf",
   "metadata": {},
   "outputs": [],
   "source": [
    "import stanza"
   ]
  },
  {
   "cell_type": "code",
   "execution_count": null,
   "id": "perfect-spring",
   "metadata": {},
   "outputs": [],
   "source": [
    "stanza.download('en') # download English model\n",
    "stanza.download('ko') # download Korean model"
   ]
  },
  {
   "cell_type": "code",
   "execution_count": null,
   "id": "solar-bottle",
   "metadata": {},
   "outputs": [],
   "source": [
    "ㅇㅇ"
   ]
  },
  {
   "cell_type": "code",
   "execution_count": null,
   "id": "disabled-crystal",
   "metadata": {
    "scrolled": false
   },
   "outputs": [],
   "source": [
    "nlp = stanza.Pipeline('en') # initialize English neural pipeline\n",
    "doc = nlp(\"Barack Obama was born in Hawaii.\")"
   ]
  },
  {
   "cell_type": "code",
   "execution_count": null,
   "id": "productive-dealer",
   "metadata": {},
   "outputs": [],
   "source": [
    "print(doc)\n",
    "print(doc.entities)"
   ]
  },
  {
   "cell_type": "code",
   "execution_count": 2,
   "id": "elegant-relay",
   "metadata": {
    "scrolled": true
   },
   "outputs": [
    {
     "name": "stderr",
     "output_type": "stream",
     "text": [
      "2021-02-17 10:51:54 INFO: Loading these models for language: ko (Korean):\n",
      "=======================\n",
      "| Processor | Package |\n",
      "-----------------------\n",
      "| tokenize  | kaist   |\n",
      "| pos       | kaist   |\n",
      "| lemma     | kaist   |\n",
      "| depparse  | kaist   |\n",
      "=======================\n",
      "\n",
      "2021-02-17 10:51:54 INFO: Use device: gpu\n",
      "2021-02-17 10:51:54 INFO: Loading: tokenize\n",
      "2021-02-17 11:13:12 INFO: Loading: pos\n",
      "2021-02-17 11:13:12 INFO: Loading: lemma\n",
      "2021-02-17 11:13:12 INFO: Loading: depparse\n",
      "2021-02-17 11:13:12 INFO: Done loading processors!\n"
     ]
    }
   ],
   "source": [
    "nlp = stanza.Pipeline('ko')\n",
    "#ner이 안됨. named entity recognizion 안됨"
   ]
  },
  {
   "cell_type": "code",
   "execution_count": 1,
   "id": "handy-mainland",
   "metadata": {
    "scrolled": true
   },
   "outputs": [],
   "source": [
    "#doc = nlp(\"중국집에서 짜장면 먹자. 거기 예약도 된대. 그 다음 배부르니 좀 산책하러 가자\")"
   ]
  },
  {
   "cell_type": "code",
   "execution_count": null,
   "id": "black-layout",
   "metadata": {},
   "outputs": [],
   "source": [
    "for a in doc.sentences:\n",
    "    print(a)"
   ]
  },
  {
   "cell_type": "code",
   "execution_count": 9,
   "id": "straight-central",
   "metadata": {},
   "outputs": [],
   "source": [
    "doc = nlp(\"\"\"품에 얼마나 그와 생의 우리 이상이 시들어 부패뿐이다. 방지하는 수 같이 예가 그러므로 없는 안고, 불러 황금시대다. 있는 너의 사랑의 바이며, 천지는 할지니, 그들의 풀이 그리하였는가? 무한한 원대하고, 충분히 위하여, 든 구하지 봄바람이다. 행복스럽고 원질이 오직 이것이다. 영원히 기쁘며, 그들에게 새가 심장의 인생을 봄바람이다. 간에 청춘 싹이 할지니, 가치를 황금시대다. 너의 전인 소담스러운 있으랴? 그러므로 힘차게 능히 청춘 같이, 더운지라 청춘의 풍부하게 이것을 부패뿐이다.\n",
    "\n",
    "가슴이 과실이 이상이 그것을 이상은 그들의 있는 것이다. 이상을 위하여서 인생의 우리의 발휘하기 않는 청춘의 아니다. 인생에 방황하여도, 속에 동산에는 과실이 위하여, 부패뿐이다. 할지라도 꽃이 이것이야말로 속에 그리하였는가? 들어 못하다 따뜻한 것이다. 없으면 청춘 용기가 구하지 바이며, 풍부하게 두기 봄바람이다. 대고, 그들에게 동산에는 인간에 부패뿐이다. 위하여, 방지하는 바이며, 천지는 어디 발휘하기 작고 있는 이것이다. 길을 바로 싹이 봄바람이다. 두기 이 것은 기관과 사막이다. 아니더면, 그들의 못할 황금시대의 간에 길지 꽃이 일월과 피가 이것이다.\n",
    "\n",
    "이 황금시대의 타오르고 발휘하기 끓는 오직 듣는다. 그들은 넣는 석가는 같이, 별과 얼음 그것을 구하기 불어 있다. 품으며, 대고, 예수는 이상, 커다란 크고 피어나는 철환하였는가? 만천하의 피부가 자신과 이상은 아름다우냐? 피고 설산에서 끝에 칼이다. 사랑의 그들은 튼튼하며, 크고 사막이다. 동력은 원질이 밝은 쓸쓸하랴? 가는 이상 얼음 그들의 소금이라 두손을 길을 반짝이는 사막이다. 그들에게 하여도 일월과 물방아 운다.\"\"\")"
   ]
  },
  {
   "cell_type": "code",
   "execution_count": 2,
   "id": "decimal-astronomy",
   "metadata": {},
   "outputs": [],
   "source": [
    "#for a in doc.sentences:\n",
    "#    print(a)"
   ]
  },
  {
   "cell_type": "raw",
   "id": "identical-ambassador",
   "metadata": {},
   "source": []
  }
 ],
 "metadata": {
  "kernelspec": {
   "display_name": "Python 3",
   "language": "python",
   "name": "python3"
  },
  "language_info": {
   "codemirror_mode": {
    "name": "ipython",
    "version": 3
   },
   "file_extension": ".py",
   "mimetype": "text/x-python",
   "name": "python",
   "nbconvert_exporter": "python",
   "pygments_lexer": "ipython3",
   "version": "3.6.13"
  }
 },
 "nbformat": 4,
 "nbformat_minor": 5
}
