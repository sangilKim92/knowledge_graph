{
 "cells": [
  {
   "cell_type": "code",
   "execution_count": 6,
   "metadata": {},
   "outputs": [],
   "source": [
    "from twitterscraper import query_tweets\n",
    "import time\n",
    "import datetime as dt"
   ]
  },
  {
   "cell_type": "code",
   "execution_count": 11,
   "metadata": {},
   "outputs": [
    {
     "data": {
      "text/plain": [
       "datetime.date(2020, 1, 1)"
      ]
     },
     "execution_count": 11,
     "metadata": {},
     "output_type": "execute_result"
    }
   ],
   "source": [
    "dt.date(2020,1,1)"
   ]
  },
  {
   "cell_type": "code",
   "execution_count": 14,
   "metadata": {},
   "outputs": [
    {
     "data": {
      "text/plain": [
       "[]"
      ]
     },
     "execution_count": 14,
     "metadata": {},
     "output_type": "execute_result"
    }
   ],
   "source": [
    "query_tweets(\"짜장면\", limit=10, begindate=dt.date(2017,1,1), enddate=dt.date.today(), poolsize=3, lang='ko')"
   ]
  },
  {
   "cell_type": "code",
   "execution_count": 1,
   "metadata": {},
   "outputs": [
    {
     "name": "stdout",
     "output_type": "stream",
     "text": [
      "Collecting TwitterAPI\n",
      "  Downloading TwitterAPI-2.6.9.tar.gz (11 kB)\n",
      "Requirement already satisfied: requests in /home/com/anaconda3/envs/tf115/lib/python3.8/site-packages (from TwitterAPI) (2.25.1)\n",
      "Requirement already satisfied: requests_oauthlib in /home/com/anaconda3/envs/tf115/lib/python3.8/site-packages (from TwitterAPI) (1.3.0)\n",
      "Requirement already satisfied: certifi>=2017.4.17 in /home/com/anaconda3/envs/tf115/lib/python3.8/site-packages (from requests->TwitterAPI) (2020.12.5)\n",
      "Requirement already satisfied: chardet<5,>=3.0.2 in /home/com/anaconda3/envs/tf115/lib/python3.8/site-packages (from requests->TwitterAPI) (4.0.0)\n",
      "Requirement already satisfied: idna<3,>=2.5 in /home/com/anaconda3/envs/tf115/lib/python3.8/site-packages (from requests->TwitterAPI) (2.10)\n",
      "Requirement already satisfied: urllib3<1.27,>=1.21.1 in /home/com/anaconda3/envs/tf115/lib/python3.8/site-packages (from requests->TwitterAPI) (1.26.2)\n",
      "Requirement already satisfied: oauthlib>=3.0.0 in /home/com/anaconda3/envs/tf115/lib/python3.8/site-packages (from requests_oauthlib->TwitterAPI) (3.1.0)\n",
      "Building wheels for collected packages: TwitterAPI\n",
      "  Building wheel for TwitterAPI (setup.py) ... \u001b[?25ldone\n",
      "\u001b[?25h  Created wheel for TwitterAPI: filename=TwitterAPI-2.6.9-py3-none-any.whl size=13016 sha256=cb5e02c8d479e9453ec19b438aa4ce7fb1cbd2ffb0b1a78d27de1c60b51b10cf\n",
      "  Stored in directory: /home/com/.cache/pip/wheels/09/b6/b4/37066d2e5d798acd8275a3d1a36576b6db1176147ea1e35f26\n",
      "Successfully built TwitterAPI\n",
      "\u001b[33mWARNING: Error parsing requirements for matplotlib: [Errno 2] 그런 파일이나 디렉터리가 없습니다: '/home/com/anaconda3/envs/tf115/lib/python3.8/site-packages/matplotlib-3.3.3.dist-info/METADATA'\u001b[0m\n",
      "Installing collected packages: TwitterAPI\n",
      "Successfully installed TwitterAPI-2.6.9\n"
     ]
    }
   ],
   "source": [
    "!pip install TwitterAPI"
   ]
  },
  {
   "cell_type": "code",
   "execution_count": 12,
   "metadata": {},
   "outputs": [],
   "source": [
    "\n",
    "list_of_tweets = query_tweets('짜장면', limit=100000, begindate=dt.date(2017,1,1), enddate=dt.date.today(), poolsize=3)\n",
    "\n",
    "    #print the retrieved tweets to the screen:\n",
    "for tweet in list_of_tweets:\n",
    "    print(tweet)\n",
    "\n",
    "    #Or save the retrieved tweets to file:\n",
    "file = open(\"output.txt\",\"w\")\n",
    "for tweet in list_of_tweets:\n",
    "    file.write(str(tweet.text.encode('utf-8')))\n",
    "file.close()"
   ]
  }
 ],
 "metadata": {
  "kernelspec": {
   "display_name": "tf115",
   "language": "python",
   "name": "tf115"
  },
  "language_info": {
   "codemirror_mode": {
    "name": "ipython",
    "version": 3
   },
   "file_extension": ".py",
   "mimetype": "text/x-python",
   "name": "python",
   "nbconvert_exporter": "python",
   "pygments_lexer": "ipython3",
   "version": "3.8.5"
  }
 },
 "nbformat": 4,
 "nbformat_minor": 4
}
